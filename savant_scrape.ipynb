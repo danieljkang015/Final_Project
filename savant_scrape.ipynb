{
 "cells": [
  {
   "cell_type": "markdown",
   "metadata": {},
   "source": [
    "# Import Dependencies"
   ]
  },
  {
   "cell_type": "code",
   "execution_count": 1,
   "metadata": {},
   "outputs": [],
   "source": [
    "from pybaseball import statcast"
   ]
  },
  {
   "cell_type": "code",
   "execution_count": 2,
   "metadata": {},
   "outputs": [],
   "source": [
    "from pybaseball import batting_stats_range"
   ]
  },
  {
   "cell_type": "code",
   "execution_count": 29,
   "metadata": {},
   "outputs": [],
   "source": [
    "from pybaseball import playerid_reverse_lookup"
   ]
  },
  {
   "cell_type": "code",
   "execution_count": 28,
   "metadata": {},
   "outputs": [
    {
     "name": "stdout",
     "output_type": "stream",
     "text": [
      "This is a large query, it may take a moment to complete\n",
      "Completed sub-query from 2019-03-20 to 2019-03-25\n",
      "Completed sub-query from 2019-03-26 to 2019-03-31\n",
      "Completed sub-query from 2019-04-01 to 2019-04-06\n",
      "Completed sub-query from 2019-04-07 to 2019-04-12\n",
      "Completed sub-query from 2019-04-13 to 2019-04-18\n",
      "Completed sub-query from 2019-04-19 to 2019-04-24\n",
      "Completed sub-query from 2019-04-25 to 2019-04-30\n",
      "Completed sub-query from 2019-05-01 to 2019-05-06\n",
      "Completed sub-query from 2019-05-07 to 2019-05-12\n",
      "Completed sub-query from 2019-05-13 to 2019-05-18\n",
      "Completed sub-query from 2019-05-19 to 2019-05-19\n"
     ]
    }
   ],
   "source": [
    "season_2019 = statcast(start_dt='2019-03-20', end_dt='2019-05-19')"
   ]
  },
  {
   "cell_type": "code",
   "execution_count": 29,
   "metadata": {},
   "outputs": [
    {
     "data": {
      "text/html": [
       "<div>\n",
       "<style scoped>\n",
       "    .dataframe tbody tr th:only-of-type {\n",
       "        vertical-align: middle;\n",
       "    }\n",
       "\n",
       "    .dataframe tbody tr th {\n",
       "        vertical-align: top;\n",
       "    }\n",
       "\n",
       "    .dataframe thead th {\n",
       "        text-align: right;\n",
       "    }\n",
       "</style>\n",
       "<table border=\"1\" class=\"dataframe\">\n",
       "  <thead>\n",
       "    <tr style=\"text-align: right;\">\n",
       "      <th></th>\n",
       "      <th>index</th>\n",
       "      <th>pitch_type</th>\n",
       "      <th>game_date</th>\n",
       "      <th>release_speed</th>\n",
       "      <th>release_pos_x</th>\n",
       "      <th>release_pos_z</th>\n",
       "      <th>player_name</th>\n",
       "      <th>batter</th>\n",
       "      <th>pitcher</th>\n",
       "      <th>events</th>\n",
       "      <th>...</th>\n",
       "      <th>home_score</th>\n",
       "      <th>away_score</th>\n",
       "      <th>bat_score</th>\n",
       "      <th>fld_score</th>\n",
       "      <th>post_away_score</th>\n",
       "      <th>post_home_score</th>\n",
       "      <th>post_bat_score</th>\n",
       "      <th>post_fld_score</th>\n",
       "      <th>if_fielding_alignment</th>\n",
       "      <th>of_fielding_alignment</th>\n",
       "    </tr>\n",
       "  </thead>\n",
       "  <tbody>\n",
       "    <tr>\n",
       "      <th>0</th>\n",
       "      <td>0</td>\n",
       "      <td>FF</td>\n",
       "      <td>2019-05-19</td>\n",
       "      <td>92.0</td>\n",
       "      <td>-1.1849</td>\n",
       "      <td>5.6309</td>\n",
       "      <td>Chance Adams</td>\n",
       "      <td>623205.0</td>\n",
       "      <td>664856.0</td>\n",
       "      <td>field_out</td>\n",
       "      <td>...</td>\n",
       "      <td>13.0</td>\n",
       "      <td>5.0</td>\n",
       "      <td>5.0</td>\n",
       "      <td>13.0</td>\n",
       "      <td>5.0</td>\n",
       "      <td>13.0</td>\n",
       "      <td>5.0</td>\n",
       "      <td>13.0</td>\n",
       "      <td>Standard</td>\n",
       "      <td>Standard</td>\n",
       "    </tr>\n",
       "    <tr>\n",
       "      <th>1</th>\n",
       "      <td>1</td>\n",
       "      <td>FF</td>\n",
       "      <td>2019-05-19</td>\n",
       "      <td>90.7</td>\n",
       "      <td>-1.3564</td>\n",
       "      <td>5.5397</td>\n",
       "      <td>Chance Adams</td>\n",
       "      <td>623205.0</td>\n",
       "      <td>664856.0</td>\n",
       "      <td>NaN</td>\n",
       "      <td>...</td>\n",
       "      <td>13.0</td>\n",
       "      <td>5.0</td>\n",
       "      <td>5.0</td>\n",
       "      <td>13.0</td>\n",
       "      <td>5.0</td>\n",
       "      <td>13.0</td>\n",
       "      <td>5.0</td>\n",
       "      <td>13.0</td>\n",
       "      <td>Standard</td>\n",
       "      <td>Standard</td>\n",
       "    </tr>\n",
       "    <tr>\n",
       "      <th>2</th>\n",
       "      <td>2</td>\n",
       "      <td>FF</td>\n",
       "      <td>2019-05-19</td>\n",
       "      <td>91.8</td>\n",
       "      <td>-1.3474</td>\n",
       "      <td>5.5608</td>\n",
       "      <td>Chance Adams</td>\n",
       "      <td>623205.0</td>\n",
       "      <td>664856.0</td>\n",
       "      <td>NaN</td>\n",
       "      <td>...</td>\n",
       "      <td>13.0</td>\n",
       "      <td>5.0</td>\n",
       "      <td>5.0</td>\n",
       "      <td>13.0</td>\n",
       "      <td>5.0</td>\n",
       "      <td>13.0</td>\n",
       "      <td>5.0</td>\n",
       "      <td>13.0</td>\n",
       "      <td>Standard</td>\n",
       "      <td>Standard</td>\n",
       "    </tr>\n",
       "    <tr>\n",
       "      <th>3</th>\n",
       "      <td>3</td>\n",
       "      <td>FF</td>\n",
       "      <td>2019-05-19</td>\n",
       "      <td>91.2</td>\n",
       "      <td>-1.3030</td>\n",
       "      <td>5.6584</td>\n",
       "      <td>Chance Adams</td>\n",
       "      <td>623205.0</td>\n",
       "      <td>664856.0</td>\n",
       "      <td>NaN</td>\n",
       "      <td>...</td>\n",
       "      <td>13.0</td>\n",
       "      <td>5.0</td>\n",
       "      <td>5.0</td>\n",
       "      <td>13.0</td>\n",
       "      <td>5.0</td>\n",
       "      <td>13.0</td>\n",
       "      <td>5.0</td>\n",
       "      <td>13.0</td>\n",
       "      <td>Standard</td>\n",
       "      <td>Standard</td>\n",
       "    </tr>\n",
       "    <tr>\n",
       "      <th>4</th>\n",
       "      <td>4</td>\n",
       "      <td>FF</td>\n",
       "      <td>2019-05-19</td>\n",
       "      <td>90.4</td>\n",
       "      <td>-1.4163</td>\n",
       "      <td>5.5242</td>\n",
       "      <td>Chance Adams</td>\n",
       "      <td>623205.0</td>\n",
       "      <td>664856.0</td>\n",
       "      <td>NaN</td>\n",
       "      <td>...</td>\n",
       "      <td>13.0</td>\n",
       "      <td>5.0</td>\n",
       "      <td>5.0</td>\n",
       "      <td>13.0</td>\n",
       "      <td>5.0</td>\n",
       "      <td>13.0</td>\n",
       "      <td>5.0</td>\n",
       "      <td>13.0</td>\n",
       "      <td>Standard</td>\n",
       "      <td>Standard</td>\n",
       "    </tr>\n",
       "  </tbody>\n",
       "</table>\n",
       "<p>5 rows × 90 columns</p>\n",
       "</div>"
      ],
      "text/plain": [
       "   index pitch_type  game_date  release_speed  release_pos_x  release_pos_z  \\\n",
       "0      0         FF 2019-05-19           92.0        -1.1849         5.6309   \n",
       "1      1         FF 2019-05-19           90.7        -1.3564         5.5397   \n",
       "2      2         FF 2019-05-19           91.8        -1.3474         5.5608   \n",
       "3      3         FF 2019-05-19           91.2        -1.3030         5.6584   \n",
       "4      4         FF 2019-05-19           90.4        -1.4163         5.5242   \n",
       "\n",
       "    player_name    batter   pitcher     events          ...           \\\n",
       "0  Chance Adams  623205.0  664856.0  field_out          ...            \n",
       "1  Chance Adams  623205.0  664856.0        NaN          ...            \n",
       "2  Chance Adams  623205.0  664856.0        NaN          ...            \n",
       "3  Chance Adams  623205.0  664856.0        NaN          ...            \n",
       "4  Chance Adams  623205.0  664856.0        NaN          ...            \n",
       "\n",
       "  home_score  away_score  bat_score  fld_score  post_away_score  \\\n",
       "0       13.0         5.0        5.0       13.0              5.0   \n",
       "1       13.0         5.0        5.0       13.0              5.0   \n",
       "2       13.0         5.0        5.0       13.0              5.0   \n",
       "3       13.0         5.0        5.0       13.0              5.0   \n",
       "4       13.0         5.0        5.0       13.0              5.0   \n",
       "\n",
       "   post_home_score post_bat_score post_fld_score if_fielding_alignment  \\\n",
       "0             13.0            5.0           13.0              Standard   \n",
       "1             13.0            5.0           13.0              Standard   \n",
       "2             13.0            5.0           13.0              Standard   \n",
       "3             13.0            5.0           13.0              Standard   \n",
       "4             13.0            5.0           13.0              Standard   \n",
       "\n",
       "  of_fielding_alignment  \n",
       "0              Standard  \n",
       "1              Standard  \n",
       "2              Standard  \n",
       "3              Standard  \n",
       "4              Standard  \n",
       "\n",
       "[5 rows x 90 columns]"
      ]
     },
     "execution_count": 29,
     "metadata": {},
     "output_type": "execute_result"
    }
   ],
   "source": [
    "season_2019.head()"
   ]
  },
  {
   "cell_type": "code",
   "execution_count": 30,
   "metadata": {},
   "outputs": [
    {
     "name": "stdout",
     "output_type": "stream",
     "text": [
      "Gathering player lookup table. This may take a moment.\n"
     ]
    }
   ],
   "source": [
    "batter_2019 = season_2019[\"batter\"]\n",
    "batter_2019_lookup = playerid_reverse_lookup(batter_2019, key_type='mlbam')"
   ]
  },
  {
   "cell_type": "code",
   "execution_count": 32,
   "metadata": {},
   "outputs": [
    {
     "data": {
      "text/html": [
       "<div>\n",
       "<style scoped>\n",
       "    .dataframe tbody tr th:only-of-type {\n",
       "        vertical-align: middle;\n",
       "    }\n",
       "\n",
       "    .dataframe tbody tr th {\n",
       "        vertical-align: top;\n",
       "    }\n",
       "\n",
       "    .dataframe thead th {\n",
       "        text-align: right;\n",
       "    }\n",
       "</style>\n",
       "<table border=\"1\" class=\"dataframe\">\n",
       "  <thead>\n",
       "    <tr style=\"text-align: right;\">\n",
       "      <th></th>\n",
       "      <th>name_last</th>\n",
       "      <th>name_first</th>\n",
       "      <th>key_mlbam</th>\n",
       "      <th>key_retro</th>\n",
       "      <th>key_bbref</th>\n",
       "      <th>key_fangraphs</th>\n",
       "      <th>mlb_played_first</th>\n",
       "      <th>mlb_played_last</th>\n",
       "    </tr>\n",
       "  </thead>\n",
       "  <tbody>\n",
       "    <tr>\n",
       "      <th>0</th>\n",
       "      <td>abreu</td>\n",
       "      <td>jose</td>\n",
       "      <td>547989</td>\n",
       "      <td>abrej003</td>\n",
       "      <td>abreujo02</td>\n",
       "      <td>15676</td>\n",
       "      <td>2014.0</td>\n",
       "      <td>2019.0</td>\n",
       "    </tr>\n",
       "    <tr>\n",
       "      <th>1</th>\n",
       "      <td>acuna</td>\n",
       "      <td>ronald</td>\n",
       "      <td>660670</td>\n",
       "      <td>acunr001</td>\n",
       "      <td>acunaro01</td>\n",
       "      <td>18401</td>\n",
       "      <td>2018.0</td>\n",
       "      <td>2019.0</td>\n",
       "    </tr>\n",
       "    <tr>\n",
       "      <th>2</th>\n",
       "      <td>adames</td>\n",
       "      <td>willy</td>\n",
       "      <td>642715</td>\n",
       "      <td>adamw002</td>\n",
       "      <td>adamewi01</td>\n",
       "      <td>15986</td>\n",
       "      <td>2018.0</td>\n",
       "      <td>2019.0</td>\n",
       "    </tr>\n",
       "    <tr>\n",
       "      <th>3</th>\n",
       "      <td>adams</td>\n",
       "      <td>matt</td>\n",
       "      <td>571431</td>\n",
       "      <td>adamm002</td>\n",
       "      <td>adamsma01</td>\n",
       "      <td>9393</td>\n",
       "      <td>2012.0</td>\n",
       "      <td>2019.0</td>\n",
       "    </tr>\n",
       "    <tr>\n",
       "      <th>4</th>\n",
       "      <td>adrianza</td>\n",
       "      <td>ehire</td>\n",
       "      <td>501303</td>\n",
       "      <td>adrie001</td>\n",
       "      <td>adriaeh01</td>\n",
       "      <td>8418</td>\n",
       "      <td>2013.0</td>\n",
       "      <td>2019.0</td>\n",
       "    </tr>\n",
       "  </tbody>\n",
       "</table>\n",
       "</div>"
      ],
      "text/plain": [
       "  name_last name_first  key_mlbam key_retro  key_bbref  key_fangraphs  \\\n",
       "0     abreu       jose     547989  abrej003  abreujo02          15676   \n",
       "1     acuna     ronald     660670  acunr001  acunaro01          18401   \n",
       "2    adames      willy     642715  adamw002  adamewi01          15986   \n",
       "3     adams       matt     571431  adamm002  adamsma01           9393   \n",
       "4  adrianza      ehire     501303  adrie001  adriaeh01           8418   \n",
       "\n",
       "   mlb_played_first  mlb_played_last  \n",
       "0            2014.0           2019.0  \n",
       "1            2018.0           2019.0  \n",
       "2            2018.0           2019.0  \n",
       "3            2012.0           2019.0  \n",
       "4            2013.0           2019.0  "
      ]
     },
     "execution_count": 32,
     "metadata": {},
     "output_type": "execute_result"
    }
   ],
   "source": [
    "batter_2019_lookup.head()"
   ]
  },
  {
   "cell_type": "code",
   "execution_count": 53,
   "metadata": {},
   "outputs": [
    {
     "data": {
      "text/html": [
       "<div>\n",
       "<style scoped>\n",
       "    .dataframe tbody tr th:only-of-type {\n",
       "        vertical-align: middle;\n",
       "    }\n",
       "\n",
       "    .dataframe tbody tr th {\n",
       "        vertical-align: top;\n",
       "    }\n",
       "\n",
       "    .dataframe thead th {\n",
       "        text-align: right;\n",
       "    }\n",
       "</style>\n",
       "<table border=\"1\" class=\"dataframe\">\n",
       "  <thead>\n",
       "    <tr style=\"text-align: right;\">\n",
       "      <th></th>\n",
       "      <th>name_last</th>\n",
       "      <th>name_first</th>\n",
       "      <th>key_mlbam</th>\n",
       "    </tr>\n",
       "  </thead>\n",
       "  <tbody>\n",
       "    <tr>\n",
       "      <th>0</th>\n",
       "      <td>abreu</td>\n",
       "      <td>jose</td>\n",
       "      <td>547989</td>\n",
       "    </tr>\n",
       "    <tr>\n",
       "      <th>1</th>\n",
       "      <td>acuna</td>\n",
       "      <td>ronald</td>\n",
       "      <td>660670</td>\n",
       "    </tr>\n",
       "    <tr>\n",
       "      <th>2</th>\n",
       "      <td>adames</td>\n",
       "      <td>willy</td>\n",
       "      <td>642715</td>\n",
       "    </tr>\n",
       "    <tr>\n",
       "      <th>3</th>\n",
       "      <td>adams</td>\n",
       "      <td>matt</td>\n",
       "      <td>571431</td>\n",
       "    </tr>\n",
       "    <tr>\n",
       "      <th>4</th>\n",
       "      <td>adrianza</td>\n",
       "      <td>ehire</td>\n",
       "      <td>501303</td>\n",
       "    </tr>\n",
       "  </tbody>\n",
       "</table>\n",
       "</div>"
      ],
      "text/plain": [
       "  name_last name_first  key_mlbam\n",
       "0     abreu       jose     547989\n",
       "1     acuna     ronald     660670\n",
       "2    adames      willy     642715\n",
       "3     adams       matt     571431\n",
       "4  adrianza      ehire     501303"
      ]
     },
     "execution_count": 53,
     "metadata": {},
     "output_type": "execute_result"
    }
   ],
   "source": [
    "batter_2019_ids = batter_2019_lookup[['name_last', 'name_first', 'key_mlbam']]\n",
    "batter_2019_ids.head()"
   ]
  },
  {
   "cell_type": "code",
   "execution_count": 58,
   "metadata": {},
   "outputs": [],
   "source": [
    "season_2019.to_csv('2019_data.csv')\n",
    "batter_2019_ids.to_csv('2019_batter_id.csv')"
   ]
  },
  {
   "cell_type": "code",
   "execution_count": 55,
   "metadata": {
    "scrolled": true
   },
   "outputs": [
    {
     "name": "stdout",
     "output_type": "stream",
     "text": [
      "This is a large query, it may take a moment to complete\n",
      "Completed sub-query from 2018-03-29 to 2018-04-03\n",
      "Completed sub-query from 2018-04-04 to 2018-04-09\n",
      "Completed sub-query from 2018-04-10 to 2018-04-15\n",
      "Completed sub-query from 2018-04-16 to 2018-04-21\n",
      "Completed sub-query from 2018-04-22 to 2018-04-27\n",
      "Completed sub-query from 2018-04-28 to 2018-05-03\n",
      "Completed sub-query from 2018-05-04 to 2018-05-09\n",
      "Completed sub-query from 2018-05-10 to 2018-05-15\n",
      "Completed sub-query from 2018-05-16 to 2018-05-21\n",
      "Completed sub-query from 2018-05-22 to 2018-05-27\n",
      "Completed sub-query from 2018-05-28 to 2018-06-02\n",
      "Completed sub-query from 2018-06-03 to 2018-06-08\n",
      "Completed sub-query from 2018-06-09 to 2018-06-14\n",
      "Completed sub-query from 2018-06-15 to 2018-06-20\n",
      "Completed sub-query from 2018-06-21 to 2018-06-26\n",
      "Completed sub-query from 2018-06-27 to 2018-07-02\n",
      "Completed sub-query from 2018-07-03 to 2018-07-08\n",
      "Completed sub-query from 2018-07-09 to 2018-07-14\n",
      "Completed sub-query from 2018-07-15 to 2018-07-20\n",
      "Completed sub-query from 2018-07-21 to 2018-07-26\n",
      "Completed sub-query from 2018-07-27 to 2018-08-01\n",
      "Completed sub-query from 2018-08-02 to 2018-08-07\n",
      "Completed sub-query from 2018-08-08 to 2018-08-13\n",
      "Completed sub-query from 2018-08-14 to 2018-08-19\n",
      "Completed sub-query from 2018-08-20 to 2018-08-25\n",
      "Completed sub-query from 2018-08-26 to 2018-08-31\n",
      "Completed sub-query from 2018-09-01 to 2018-09-06\n",
      "Completed sub-query from 2018-09-07 to 2018-09-12\n",
      "Completed sub-query from 2018-09-13 to 2018-09-18\n",
      "Completed sub-query from 2018-09-19 to 2018-09-24\n",
      "Completed sub-query from 2018-09-25 to 2018-09-30\n",
      "Completed sub-query from 2018-10-01 to 2018-10-1\n"
     ]
    }
   ],
   "source": [
    "season_2018 = statcast(start_dt='2018-03-29', end_dt='2018-10-1')"
   ]
  },
  {
   "cell_type": "code",
   "execution_count": 57,
   "metadata": {},
   "outputs": [],
   "source": [
    "season_2018.to_csv('2018_data.csv')"
   ]
  },
  {
   "cell_type": "code",
   "execution_count": 59,
   "metadata": {},
   "outputs": [
    {
     "name": "stdout",
     "output_type": "stream",
     "text": [
      "This is a large query, it may take a moment to complete\n",
      "Completed sub-query from 2017-04-02 to 2017-04-07\n",
      "Completed sub-query from 2017-04-08 to 2017-04-13\n",
      "Completed sub-query from 2017-04-14 to 2017-04-19\n",
      "Completed sub-query from 2017-04-20 to 2017-04-25\n",
      "Completed sub-query from 2017-04-26 to 2017-05-01\n",
      "Completed sub-query from 2017-05-02 to 2017-05-07\n",
      "Completed sub-query from 2017-05-08 to 2017-05-13\n",
      "Completed sub-query from 2017-05-14 to 2017-05-19\n",
      "Completed sub-query from 2017-05-20 to 2017-05-25\n",
      "Completed sub-query from 2017-05-26 to 2017-05-31\n",
      "Completed sub-query from 2017-06-01 to 2017-06-06\n",
      "Completed sub-query from 2017-06-07 to 2017-06-12\n",
      "Completed sub-query from 2017-06-13 to 2017-06-18\n",
      "Completed sub-query from 2017-06-19 to 2017-06-24\n",
      "Completed sub-query from 2017-06-25 to 2017-06-30\n",
      "Completed sub-query from 2017-07-01 to 2017-07-06\n",
      "Completed sub-query from 2017-07-07 to 2017-07-12\n",
      "Completed sub-query from 2017-07-13 to 2017-07-18\n",
      "Completed sub-query from 2017-07-19 to 2017-07-24\n",
      "Completed sub-query from 2017-07-25 to 2017-07-30\n",
      "Completed sub-query from 2017-07-31 to 2017-08-05\n",
      "Completed sub-query from 2017-08-06 to 2017-08-11\n",
      "Completed sub-query from 2017-08-12 to 2017-08-17\n",
      "Completed sub-query from 2017-08-18 to 2017-08-23\n",
      "Completed sub-query from 2017-08-24 to 2017-08-29\n",
      "Completed sub-query from 2017-08-30 to 2017-09-04\n",
      "Completed sub-query from 2017-09-05 to 2017-09-10\n",
      "Completed sub-query from 2017-09-11 to 2017-09-16\n",
      "Completed sub-query from 2017-09-17 to 2017-09-22\n",
      "Completed sub-query from 2017-09-23 to 2017-09-28\n",
      "Completed sub-query from 2017-09-29 to 2017-10-1\n"
     ]
    }
   ],
   "source": [
    "season_2017 = statcast(start_dt='2017-04-02', end_dt='2017-10-1')"
   ]
  },
  {
   "cell_type": "code",
   "execution_count": 60,
   "metadata": {},
   "outputs": [],
   "source": [
    "season_2017.to_csv('2017_data.csv')"
   ]
  },
  {
   "cell_type": "code",
   "execution_count": 61,
   "metadata": {},
   "outputs": [
    {
     "name": "stdout",
     "output_type": "stream",
     "text": [
      "This is a large query, it may take a moment to complete\n",
      "Completed sub-query from 2016-04-03 to 2016-04-08\n",
      "Completed sub-query from 2016-04-09 to 2016-04-14\n",
      "Completed sub-query from 2016-04-15 to 2016-04-20\n",
      "Completed sub-query from 2016-04-21 to 2016-04-26\n",
      "Completed sub-query from 2016-04-27 to 2016-05-02\n",
      "Completed sub-query from 2016-05-03 to 2016-05-08\n",
      "Completed sub-query from 2016-05-09 to 2016-05-14\n",
      "Completed sub-query from 2016-05-15 to 2016-05-20\n",
      "Completed sub-query from 2016-05-21 to 2016-05-26\n",
      "Completed sub-query from 2016-05-27 to 2016-06-01\n",
      "Completed sub-query from 2016-06-02 to 2016-06-07\n",
      "Completed sub-query from 2016-06-08 to 2016-06-13\n",
      "Completed sub-query from 2016-06-14 to 2016-06-19\n",
      "Completed sub-query from 2016-06-20 to 2016-06-25\n",
      "Completed sub-query from 2016-06-26 to 2016-07-01\n",
      "Completed sub-query from 2016-07-02 to 2016-07-07\n",
      "Completed sub-query from 2016-07-08 to 2016-07-13\n",
      "Completed sub-query from 2016-07-14 to 2016-07-19\n",
      "Completed sub-query from 2016-07-20 to 2016-07-25\n",
      "Completed sub-query from 2016-07-26 to 2016-07-31\n",
      "Completed sub-query from 2016-08-01 to 2016-08-06\n",
      "Completed sub-query from 2016-08-07 to 2016-08-12\n",
      "Completed sub-query from 2016-08-13 to 2016-08-18\n",
      "Completed sub-query from 2016-08-19 to 2016-08-24\n",
      "Completed sub-query from 2016-08-25 to 2016-08-30\n",
      "Completed sub-query from 2016-08-31 to 2016-09-05\n",
      "Completed sub-query from 2016-09-06 to 2016-09-11\n",
      "Completed sub-query from 2016-09-12 to 2016-09-17\n",
      "Completed sub-query from 2016-09-18 to 2016-09-23\n",
      "Completed sub-query from 2016-09-24 to 2016-09-29\n",
      "Completed sub-query from 2016-09-30 to 2016-10-2\n"
     ]
    }
   ],
   "source": [
    "season_2016 = statcast(start_dt='2016-04-03', end_dt='2016-10-2')"
   ]
  },
  {
   "cell_type": "code",
   "execution_count": 62,
   "metadata": {},
   "outputs": [],
   "source": [
    "season_2016.to_csv('2016_data.csv')"
   ]
  },
  {
   "cell_type": "code",
   "execution_count": 1,
   "metadata": {},
   "outputs": [],
   "source": [
    "import pandas as pd\n",
    "from sqlalchemy import create_engine"
   ]
  },
  {
   "cell_type": "code",
   "execution_count": 2,
   "metadata": {},
   "outputs": [],
   "source": [
    "season_2019 = pd.read_csv('2019_data.csv')"
   ]
  },
  {
   "cell_type": "code",
   "execution_count": 27,
   "metadata": {},
   "outputs": [],
   "source": [
    "season_2018 = pd.read_csv('2018_data.csv')"
   ]
  },
  {
   "cell_type": "code",
   "execution_count": 3,
   "metadata": {
    "scrolled": true
   },
   "outputs": [
    {
     "name": "stderr",
     "output_type": "stream",
     "text": [
      "/anaconda3/envs/pythondata/lib/python3.6/site-packages/IPython/core/interactiveshell.py:2785: DtypeWarning: Columns (45) have mixed types. Specify dtype option on import or set low_memory=False.\n",
      "  interactivity=interactivity, compiler=compiler, result=result)\n"
     ]
    }
   ],
   "source": [
    "season_2017 = pd.read_csv('2017_data.csv')\n",
    "season_2016 = pd.read_csv('2016_data.csv')"
   ]
  },
  {
   "cell_type": "code",
   "execution_count": 2,
   "metadata": {},
   "outputs": [],
   "source": [
    "rds_connection_string = \"root:village11@localhost/savant_db\"\n",
    "engine = create_engine(f'mysql+pymysql://{rds_connection_string}')"
   ]
  },
  {
   "cell_type": "code",
   "execution_count": 4,
   "metadata": {},
   "outputs": [],
   "source": [
    "season_2019.to_sql(name='2019 Season', con=engine, if_exists='append',index=False) "
   ]
  },
  {
   "cell_type": "code",
   "execution_count": 34,
   "metadata": {},
   "outputs": [],
   "source": [
    "season_2018.to_sql(name='2018 Season', con=engine, if_exists='append',index=False)"
   ]
  },
  {
   "cell_type": "code",
   "execution_count": 4,
   "metadata": {},
   "outputs": [],
   "source": [
    "season_2017.to_sql(name='2017 Season', con=engine, if_exists='append',index=False)"
   ]
  },
  {
   "cell_type": "code",
   "execution_count": 5,
   "metadata": {},
   "outputs": [],
   "source": [
    "season_2016.to_sql(name='2016 Season', con=engine, if_exists='append',index=False)"
   ]
  },
  {
   "cell_type": "code",
   "execution_count": 3,
   "metadata": {},
   "outputs": [],
   "source": [
    "pd.read_csv('combined_data.csv').to_sql(name='combined_xba_data', con=engine, if_exists='append', index=False)"
   ]
  },
  {
   "cell_type": "code",
   "execution_count": null,
   "metadata": {},
   "outputs": [],
   "source": []
  },
  {
   "cell_type": "code",
   "execution_count": null,
   "metadata": {},
   "outputs": [],
   "source": []
  },
  {
   "cell_type": "code",
   "execution_count": null,
   "metadata": {},
   "outputs": [],
   "source": []
  },
  {
   "cell_type": "code",
   "execution_count": null,
   "metadata": {},
   "outputs": [],
   "source": []
  }
 ],
 "metadata": {
  "kernelspec": {
   "display_name": "Python [conda env:pythondata]",
   "language": "python",
   "name": "conda-env-pythondata-py"
  },
  "language_info": {
   "codemirror_mode": {
    "name": "ipython",
    "version": 3
   },
   "file_extension": ".py",
   "mimetype": "text/x-python",
   "name": "python",
   "nbconvert_exporter": "python",
   "pygments_lexer": "ipython3",
   "version": "3.6.8"
  }
 },
 "nbformat": 4,
 "nbformat_minor": 2
}
